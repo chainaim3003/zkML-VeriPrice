{
 "cells": [
  {
   "cell_type": "code",
   "execution_count": 2,
   "id": "5bb66e36",
   "metadata": {},
   "outputs": [
    {
     "name": "stdout",
     "output_type": "stream",
     "text": [
      "Requirement already satisfied: starknet.py in c:\\users\\sathy\\appdata\\local\\programs\\python\\python311\\lib\\site-packages (0.22.0)\n",
      "Requirement already satisfied: aiohttp<4.0.0,>=3.8.4 in c:\\users\\sathy\\appdata\\local\\programs\\python\\python311\\lib\\site-packages (from starknet.py) (3.9.5)\n",
      "Requirement already satisfied: asgiref<4.0.0,>=3.4.1 in c:\\users\\sathy\\appdata\\local\\programs\\python\\python311\\lib\\site-packages (from starknet.py) (3.7.2)\n",
      "Requirement already satisfied: crypto-cpp-py==1.4.4 in c:\\users\\sathy\\appdata\\local\\programs\\python\\python311\\lib\\site-packages (from starknet.py) (1.4.4)\n",
      "Requirement already satisfied: lark<2.0.0,>=1.1.5 in c:\\users\\sathy\\appdata\\local\\programs\\python\\python311\\lib\\site-packages (from starknet.py) (1.1.9)\n",
      "Requirement already satisfied: marshmallow-dataclass<8.7.0 in c:\\users\\sathy\\appdata\\local\\programs\\python\\python311\\lib\\site-packages (from starknet.py) (8.6.1)\n",
      "Requirement already satisfied: marshmallow-oneofschema==3.0.1 in c:\\users\\sathy\\appdata\\local\\programs\\python\\python311\\lib\\site-packages (from starknet.py) (3.0.1)\n",
      "Requirement already satisfied: marshmallow<4.0.0,>=3.15.0 in c:\\users\\sathy\\appdata\\local\\programs\\python\\python311\\lib\\site-packages (from starknet.py) (3.21.3)\n",
      "Requirement already satisfied: poseidon-py==0.1.4 in c:\\users\\sathy\\appdata\\local\\programs\\python\\python311\\lib\\site-packages (from starknet.py) (0.1.4)\n",
      "Requirement already satisfied: pycryptodome<4.0,>=3.17 in c:\\users\\sathy\\appdata\\local\\programs\\python\\python311\\lib\\site-packages (from starknet.py) (3.19.0)\n",
      "Requirement already satisfied: typing-extensions<5.0.0,>=4.3.0 in c:\\users\\sathy\\appdata\\local\\programs\\python\\python311\\lib\\site-packages (from starknet.py) (4.8.0)\n",
      "Requirement already satisfied: ecdsa==0.18.0 in c:\\users\\sathy\\appdata\\local\\programs\\python\\python311\\lib\\site-packages (from crypto-cpp-py==1.4.4->starknet.py) (0.18.0)\n",
      "Requirement already satisfied: sympy==1.11.1 in c:\\users\\sathy\\appdata\\local\\programs\\python\\python311\\lib\\site-packages (from crypto-cpp-py==1.4.4->starknet.py) (1.11.1)\n",
      "Requirement already satisfied: pywin32==306 in c:\\users\\sathy\\appdata\\roaming\\python\\python311\\site-packages (from crypto-cpp-py==1.4.4->starknet.py) (306)\n",
      "Requirement already satisfied: six>=1.9.0 in c:\\users\\sathy\\appdata\\local\\programs\\python\\python311\\lib\\site-packages (from ecdsa==0.18.0->crypto-cpp-py==1.4.4->starknet.py) (1.16.0)\n",
      "Requirement already satisfied: mpmath>=0.19 in c:\\users\\sathy\\appdata\\local\\programs\\python\\python311\\lib\\site-packages (from sympy==1.11.1->crypto-cpp-py==1.4.4->starknet.py) (1.3.0)\n",
      "Requirement already satisfied: aiosignal>=1.1.2 in c:\\users\\sathy\\appdata\\local\\programs\\python\\python311\\lib\\site-packages (from aiohttp<4.0.0,>=3.8.4->starknet.py) (1.3.1)\n",
      "Requirement already satisfied: attrs>=17.3.0 in c:\\users\\sathy\\appdata\\local\\programs\\python\\python311\\lib\\site-packages (from aiohttp<4.0.0,>=3.8.4->starknet.py) (23.2.0)\n",
      "Requirement already satisfied: frozenlist>=1.1.1 in c:\\users\\sathy\\appdata\\local\\programs\\python\\python311\\lib\\site-packages (from aiohttp<4.0.0,>=3.8.4->starknet.py) (1.4.1)\n",
      "Requirement already satisfied: multidict<7.0,>=4.5 in c:\\users\\sathy\\appdata\\local\\programs\\python\\python311\\lib\\site-packages (from aiohttp<4.0.0,>=3.8.4->starknet.py) (6.0.5)\n",
      "Requirement already satisfied: yarl<2.0,>=1.0 in c:\\users\\sathy\\appdata\\local\\programs\\python\\python311\\lib\\site-packages (from aiohttp<4.0.0,>=3.8.4->starknet.py) (1.9.4)\n",
      "Requirement already satisfied: packaging>=17.0 in c:\\users\\sathy\\appdata\\local\\programs\\python\\python311\\lib\\site-packages (from marshmallow<4.0.0,>=3.15.0->starknet.py) (23.2)\n",
      "Requirement already satisfied: typing-inspect<1.0,>=0.8.0 in c:\\users\\sathy\\appdata\\local\\programs\\python\\python311\\lib\\site-packages (from marshmallow-dataclass<8.7.0->starknet.py) (0.9.0)\n",
      "Requirement already satisfied: mypy-extensions>=0.3.0 in c:\\users\\sathy\\appdata\\local\\programs\\python\\python311\\lib\\site-packages (from typing-inspect<1.0,>=0.8.0->marshmallow-dataclass<8.7.0->starknet.py) (1.0.0)\n",
      "Requirement already satisfied: idna>=2.0 in c:\\users\\sathy\\appdata\\local\\programs\\python\\python311\\lib\\site-packages (from yarl<2.0,>=1.0->aiohttp<4.0.0,>=3.8.4->starknet.py) (3.4)\n"
     ]
    },
    {
     "name": "stderr",
     "output_type": "stream",
     "text": [
      "\n",
      "[notice] A new release of pip is available: 23.2.1 -> 24.0\n",
      "[notice] To update, run: python.exe -m pip install --upgrade pip\n"
     ]
    }
   ],
   "source": [
    "! pip install starknet.py"
   ]
  },
  {
   "cell_type": "code",
   "execution_count": 7,
   "id": "7bfbcb09",
   "metadata": {},
   "outputs": [
    {
     "name": "stdout",
     "output_type": "stream",
     "text": [
      "^C\n"
     ]
    }
   ],
   "source": [
    "!streamlit run gizaAgent.py"
   ]
  },
  {
   "cell_type": "code",
   "execution_count": 6,
   "id": "4499222b",
   "metadata": {},
   "outputs": [
    {
     "name": "stdout",
     "output_type": "stream",
     "text": [
      "Requirement already satisfied: crypto_cpp_py in c:\\users\\sathy\\appdata\\local\\programs\\python\\python311\\lib\\site-packages (1.4.4)\n",
      "Requirement already satisfied: ecdsa==0.18.0 in c:\\users\\sathy\\appdata\\local\\programs\\python\\python311\\lib\\site-packages (from crypto_cpp_py) (0.18.0)\n",
      "Requirement already satisfied: sympy==1.11.1 in c:\\users\\sathy\\appdata\\local\\programs\\python\\python311\\lib\\site-packages (from crypto_cpp_py) (1.11.1)\n",
      "Requirement already satisfied: pywin32==306 in c:\\users\\sathy\\appdata\\roaming\\python\\python311\\site-packages (from crypto_cpp_py) (306)\n",
      "Requirement already satisfied: six>=1.9.0 in c:\\users\\sathy\\appdata\\local\\programs\\python\\python311\\lib\\site-packages (from ecdsa==0.18.0->crypto_cpp_py) (1.16.0)\n",
      "Requirement already satisfied: mpmath>=0.19 in c:\\users\\sathy\\appdata\\local\\programs\\python\\python311\\lib\\site-packages (from sympy==1.11.1->crypto_cpp_py) (1.3.0)\n"
     ]
    },
    {
     "name": "stderr",
     "output_type": "stream",
     "text": [
      "\n",
      "[notice] A new release of pip is available: 23.2.1 -> 24.0\n",
      "[notice] To update, run: python.exe -m pip install --upgrade pip\n"
     ]
    }
   ],
   "source": []
  }
 ],
 "metadata": {
  "kernelspec": {
   "display_name": "Python 3",
   "language": "python",
   "name": "python3"
  },
  "language_info": {
   "codemirror_mode": {
    "name": "ipython",
    "version": 3
   },
   "file_extension": ".py",
   "mimetype": "text/x-python",
   "name": "python",
   "nbconvert_exporter": "python",
   "pygments_lexer": "ipython3",
   "version": "3.11.5"
  }
 },
 "nbformat": 4,
 "nbformat_minor": 5
}
